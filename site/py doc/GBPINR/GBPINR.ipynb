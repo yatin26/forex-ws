{
 "cells": [
  {
   "cell_type": "code",
   "execution_count": 1,
   "metadata": {},
   "outputs": [],
   "source": [
    "import datetime\n",
    "import numpy as np\n",
    "import pandas as pd\n",
    "import matplotlib.pyplot as plt\n",
    "import seaborn as sns\n",
    "from IPython.core.display import display\n",
    "%matplotlib inline"
   ]
  },
  {
   "cell_type": "code",
   "execution_count": 2,
   "metadata": {},
   "outputs": [],
   "source": [
    "df = pd.read_csv(\"GBPINR=X.csv\") "
   ]
  },
  {
   "cell_type": "code",
   "execution_count": 3,
   "metadata": {},
   "outputs": [],
   "source": [
    "df['return'] = df['Adj Close'] - df['Adj Close'].shift(1)\n",
    "return_range = df['return'].max() - df['return'].min()\n",
    "df['return'] = df['return'] / return_range"
   ]
  },
  {
   "cell_type": "code",
   "execution_count": 4,
   "metadata": {},
   "outputs": [
    {
     "data": {
      "text/html": [
       "<div>\n",
       "<style scoped>\n",
       "    .dataframe tbody tr th:only-of-type {\n",
       "        vertical-align: middle;\n",
       "    }\n",
       "\n",
       "    .dataframe tbody tr th {\n",
       "        vertical-align: top;\n",
       "    }\n",
       "\n",
       "    .dataframe thead th {\n",
       "        text-align: right;\n",
       "    }\n",
       "</style>\n",
       "<table border=\"1\" class=\"dataframe\">\n",
       "  <thead>\n",
       "    <tr style=\"text-align: right;\">\n",
       "      <th></th>\n",
       "      <th>Date</th>\n",
       "      <th>Open</th>\n",
       "      <th>High</th>\n",
       "      <th>Low</th>\n",
       "      <th>Close</th>\n",
       "      <th>Adj Close</th>\n",
       "      <th>Volume</th>\n",
       "      <th>return</th>\n",
       "      <th>label</th>\n",
       "    </tr>\n",
       "  </thead>\n",
       "  <tbody>\n",
       "    <tr>\n",
       "      <th>3838</th>\n",
       "      <td>1/29/21</td>\n",
       "      <td>100.120110</td>\n",
       "      <td>100.197548</td>\n",
       "      <td>99.593643</td>\n",
       "      <td>100.120110</td>\n",
       "      <td>100.120110</td>\n",
       "      <td>0.0</td>\n",
       "      <td>0.026024</td>\n",
       "      <td>0</td>\n",
       "    </tr>\n",
       "    <tr>\n",
       "      <th>3839</th>\n",
       "      <td>2/1/21</td>\n",
       "      <td>99.882317</td>\n",
       "      <td>100.475883</td>\n",
       "      <td>99.882317</td>\n",
       "      <td>99.963753</td>\n",
       "      <td>99.963753</td>\n",
       "      <td>0.0</td>\n",
       "      <td>-0.013699</td>\n",
       "      <td>1</td>\n",
       "    </tr>\n",
       "    <tr>\n",
       "      <th>3840</th>\n",
       "      <td>2/2/21</td>\n",
       "      <td>99.991524</td>\n",
       "      <td>100.354309</td>\n",
       "      <td>99.345207</td>\n",
       "      <td>99.991524</td>\n",
       "      <td>99.991524</td>\n",
       "      <td>0.0</td>\n",
       "      <td>0.002433</td>\n",
       "      <td>0</td>\n",
       "    </tr>\n",
       "    <tr>\n",
       "      <th>3841</th>\n",
       "      <td>2/3/21</td>\n",
       "      <td>99.637161</td>\n",
       "      <td>99.826256</td>\n",
       "      <td>99.347580</td>\n",
       "      <td>99.642159</td>\n",
       "      <td>99.642159</td>\n",
       "      <td>0.0</td>\n",
       "      <td>-0.030608</td>\n",
       "      <td>0</td>\n",
       "    </tr>\n",
       "    <tr>\n",
       "      <th>3842</th>\n",
       "      <td>2/4/21</td>\n",
       "      <td>99.430702</td>\n",
       "      <td>99.684097</td>\n",
       "      <td>98.883904</td>\n",
       "      <td>99.587402</td>\n",
       "      <td>99.587402</td>\n",
       "      <td>0.0</td>\n",
       "      <td>-0.004797</td>\n",
       "      <td>0</td>\n",
       "    </tr>\n",
       "  </tbody>\n",
       "</table>\n",
       "</div>"
      ],
      "text/plain": [
       "         Date        Open        High        Low       Close   Adj Close  \\\n",
       "3838  1/29/21  100.120110  100.197548  99.593643  100.120110  100.120110   \n",
       "3839   2/1/21   99.882317  100.475883  99.882317   99.963753   99.963753   \n",
       "3840   2/2/21   99.991524  100.354309  99.345207   99.991524   99.991524   \n",
       "3841   2/3/21   99.637161   99.826256  99.347580   99.642159   99.642159   \n",
       "3842   2/4/21   99.430702   99.684097  98.883904   99.587402   99.587402   \n",
       "\n",
       "      Volume    return  label  \n",
       "3838     0.0  0.026024      0  \n",
       "3839     0.0 -0.013699      1  \n",
       "3840     0.0  0.002433      0  \n",
       "3841     0.0 -0.030608      0  \n",
       "3842     0.0 -0.004797      0  "
      ]
     },
     "execution_count": 4,
     "metadata": {},
     "output_type": "execute_result"
    }
   ],
   "source": [
    "df['label'] = df['return'].shift(-1)\n",
    "df['label'] = df['label'].apply(lambda x: 1 if x>0.0 else 0)\n",
    "df.dropna(inplace=True)\n",
    "df.tail()"
   ]
  },
  {
   "cell_type": "code",
   "execution_count": 5,
   "metadata": {},
   "outputs": [
    {
     "name": "stdout",
     "output_type": "stream",
     "text": [
      "(3715, 60)\n",
      "(3715,)\n",
      "% of Class0 : 0.497174\n",
      "% of Class1 : 0.502826\n"
     ]
    }
   ],
   "source": [
    "n_features = 60 \n",
    "\n",
    "train_x = np.array([]).reshape([-1,n_features])\n",
    "train_y = np.array([]).reshape([-1,1])\n",
    "for index, row in df.iterrows():\n",
    "    i = df.index.get_loc(index)\n",
    "    if i < n_features:\n",
    "        continue\n",
    "    _x = np.array(df[i-n_features+1:i+1]['return']).T.reshape([1, -1])\n",
    "    _y = df.iloc[i]['label']\n",
    "    train_x = np.vstack((train_x, _x))\n",
    "    train_y = np.vstack((train_y, _y))\n",
    "train_y = train_y.reshape([-1])\n",
    "print(train_x.shape)\n",
    "print(train_y.shape)\n",
    "print('%% of Class0 : %f' % (np.count_nonzero(train_y == 0)/float(len(train_y))))\n",
    "print('%% of Class1 : %f' % (np.count_nonzero(train_y == 1)/float(len(train_y))))"
   ]
  },
  {
   "cell_type": "code",
   "execution_count": 6,
   "metadata": {},
   "outputs": [
    {
     "name": "stdout",
     "output_type": "stream",
     "text": [
      "Testing Accuracy: 0.510753\n"
     ]
    }
   ],
   "source": [
    "from sklearn.ensemble import GradientBoostingClassifier\n",
    "clf = GradientBoostingClassifier(random_state=0, learning_rate=0.01, n_estimators=10000)\n",
    "\n",
    "train_len = int(len(train_x) * 0.95)\n",
    "clf.fit(train_x[:train_len], train_y[:train_len])\n",
    "\n",
    "accuracy = clf.score(train_x[train_len:], train_y[train_len:])\n",
    "\n",
    "print('Testing Accuracy: %f' % accuracy)"
   ]
  },
  {
   "cell_type": "code",
   "execution_count": 7,
   "metadata": {},
   "outputs": [
    {
     "name": "stdout",
     "output_type": "stream",
     "text": [
      "Enter value of equity:1500\n"
     ]
    },
    {
     "data": {
      "text/html": [
       "<div>\n",
       "<style scoped>\n",
       "    .dataframe tbody tr th:only-of-type {\n",
       "        vertical-align: middle;\n",
       "    }\n",
       "\n",
       "    .dataframe tbody tr th {\n",
       "        vertical-align: top;\n",
       "    }\n",
       "\n",
       "    .dataframe thead th {\n",
       "        text-align: right;\n",
       "    }\n",
       "</style>\n",
       "<table border=\"1\" class=\"dataframe\">\n",
       "  <thead>\n",
       "    <tr style=\"text-align: right;\">\n",
       "      <th></th>\n",
       "      <th>return</th>\n",
       "      <th>label</th>\n",
       "      <th>pred</th>\n",
       "      <th>won</th>\n",
       "      <th>pnl</th>\n",
       "      <th>equity</th>\n",
       "    </tr>\n",
       "  </thead>\n",
       "  <tbody>\n",
       "    <tr>\n",
       "      <th>180</th>\n",
       "      <td>0.297036</td>\n",
       "      <td>1.0</td>\n",
       "      <td>1.0</td>\n",
       "      <td>True</td>\n",
       "      <td>445.5540</td>\n",
       "      <td>13512.4800</td>\n",
       "    </tr>\n",
       "    <tr>\n",
       "      <th>181</th>\n",
       "      <td>-0.156357</td>\n",
       "      <td>0.0</td>\n",
       "      <td>1.0</td>\n",
       "      <td>False</td>\n",
       "      <td>-234.5355</td>\n",
       "      <td>13277.9445</td>\n",
       "    </tr>\n",
       "    <tr>\n",
       "      <th>182</th>\n",
       "      <td>0.027771</td>\n",
       "      <td>1.0</td>\n",
       "      <td>0.0</td>\n",
       "      <td>False</td>\n",
       "      <td>-41.6565</td>\n",
       "      <td>13236.2880</td>\n",
       "    </tr>\n",
       "    <tr>\n",
       "      <th>183</th>\n",
       "      <td>-0.349365</td>\n",
       "      <td>0.0</td>\n",
       "      <td>1.0</td>\n",
       "      <td>False</td>\n",
       "      <td>-524.0475</td>\n",
       "      <td>12712.2405</td>\n",
       "    </tr>\n",
       "    <tr>\n",
       "      <th>184</th>\n",
       "      <td>-0.054757</td>\n",
       "      <td>0.0</td>\n",
       "      <td>0.0</td>\n",
       "      <td>True</td>\n",
       "      <td>82.1355</td>\n",
       "      <td>12794.3760</td>\n",
       "    </tr>\n",
       "  </tbody>\n",
       "</table>\n",
       "</div>"
      ],
      "text/plain": [
       "       return  label  pred    won       pnl      equity\n",
       "180  0.297036    1.0   1.0   True  445.5540  13512.4800\n",
       "181 -0.156357    0.0   1.0  False -234.5355  13277.9445\n",
       "182  0.027771    1.0   0.0  False  -41.6565  13236.2880\n",
       "183 -0.349365    0.0   1.0  False -524.0475  12712.2405\n",
       "184 -0.054757    0.0   0.0   True   82.1355  12794.3760"
      ]
     },
     "metadata": {},
     "output_type": "display_data"
    },
    {
     "data": {
      "text/html": [
       "<div>\n",
       "<style scoped>\n",
       "    .dataframe tbody tr th:only-of-type {\n",
       "        vertical-align: middle;\n",
       "    }\n",
       "\n",
       "    .dataframe tbody tr th {\n",
       "        vertical-align: top;\n",
       "    }\n",
       "\n",
       "    .dataframe thead th {\n",
       "        text-align: right;\n",
       "    }\n",
       "</style>\n",
       "<table border=\"1\" class=\"dataframe\">\n",
       "  <thead>\n",
       "    <tr style=\"text-align: right;\">\n",
       "      <th></th>\n",
       "      <th>return</th>\n",
       "      <th>label</th>\n",
       "      <th>pred</th>\n",
       "      <th>won</th>\n",
       "      <th>pnl</th>\n",
       "      <th>equity</th>\n",
       "    </tr>\n",
       "  </thead>\n",
       "  <tbody>\n",
       "    <tr>\n",
       "      <th>0</th>\n",
       "      <td>0.033798</td>\n",
       "      <td>1.0</td>\n",
       "      <td>1.0</td>\n",
       "      <td>True</td>\n",
       "      <td>50.6970</td>\n",
       "      <td>50.6970</td>\n",
       "    </tr>\n",
       "    <tr>\n",
       "      <th>1</th>\n",
       "      <td>0.159653</td>\n",
       "      <td>1.0</td>\n",
       "      <td>1.0</td>\n",
       "      <td>True</td>\n",
       "      <td>239.4795</td>\n",
       "      <td>290.1765</td>\n",
       "    </tr>\n",
       "    <tr>\n",
       "      <th>2</th>\n",
       "      <td>-0.057373</td>\n",
       "      <td>0.0</td>\n",
       "      <td>1.0</td>\n",
       "      <td>False</td>\n",
       "      <td>-86.0595</td>\n",
       "      <td>204.1170</td>\n",
       "    </tr>\n",
       "    <tr>\n",
       "      <th>3</th>\n",
       "      <td>0.972511</td>\n",
       "      <td>1.0</td>\n",
       "      <td>0.0</td>\n",
       "      <td>False</td>\n",
       "      <td>-1458.7665</td>\n",
       "      <td>-1254.6495</td>\n",
       "    </tr>\n",
       "    <tr>\n",
       "      <th>4</th>\n",
       "      <td>-0.330849</td>\n",
       "      <td>0.0</td>\n",
       "      <td>0.0</td>\n",
       "      <td>True</td>\n",
       "      <td>496.2735</td>\n",
       "      <td>-758.3760</td>\n",
       "    </tr>\n",
       "  </tbody>\n",
       "</table>\n",
       "</div>"
      ],
      "text/plain": [
       "     return  label  pred    won        pnl     equity\n",
       "0  0.033798    1.0   1.0   True    50.6970    50.6970\n",
       "1  0.159653    1.0   1.0   True   239.4795   290.1765\n",
       "2 -0.057373    0.0   1.0  False   -86.0595   204.1170\n",
       "3  0.972511    1.0   0.0  False -1458.7665 -1254.6495\n",
       "4 -0.330849    0.0   0.0   True   496.2735  -758.3760"
      ]
     },
     "metadata": {},
     "output_type": "display_data"
    },
    {
     "data": {
      "image/png": "[encoded data removed]",
      "text/plain": [
       "<Figure size 720x288 with 1 Axes>"
      ]
     },
     "metadata": {
      "needs_background": "light"
     },
     "output_type": "display_data"
    }
   ],
   "source": [
    "pred = clf.predict(train_x[train_len:])\n",
    "\n",
    "\n",
    "# Calculate equity..\n",
    "\n",
    "contracts  = int(input(\"Enter value of equity:\"))\n",
    "commission = 0.0\n",
    "\n",
    "\n",
    "df_trade = pd.DataFrame(train_x[train_len:,-1], columns=['return'])\n",
    "df_trade['label']  = train_y[train_len:]\n",
    "df_trade['pred']   = pred\n",
    "df_trade['won']    = df_trade['label'] == df_trade['pred']\n",
    "df_trade['return'] = df_trade['return'].shift(-1) * return_range\n",
    "df_trade.drop(df_trade.index[len(df_trade)-1], inplace=True)\n",
    "\n",
    "def calc_profit(row):\n",
    "    if row['won']:\n",
    "        return abs(row['return'])*contracts - commission\n",
    "    else:\n",
    "        return -abs(row['return'])*contracts - commission\n",
    "\n",
    "df_trade['pnl'] = df_trade.apply(lambda row: calc_profit(row), axis=1)\n",
    "df_trade['equity'] = df_trade['pnl'].cumsum()\n",
    "\n",
    "display(df_trade.tail())\n",
    "df_trade.plot(y='equity', figsize=(10,4), title='Backtest with your initial capital')\n",
    "plt.xlabel('Trades')\n",
    "plt.ylabel('Equity (USD)')\n",
    "for r in df_trade.iterrows():\n",
    "    if r[1]['won']:\n",
    "        plt.axvline(x=r[0], linewidth=0.5, alpha=0.8, color='g')\n",
    "    else:\n",
    "        plt.axvline(x=r[0], linewidth=0.5, alpha=0.8, color='r')\n",
    "display(df_trade.head())"
   ]
  },
  {
   "cell_type": "code",
   "execution_count": 8,
   "metadata": {},
   "outputs": [
    {
     "name": "stdout",
     "output_type": "stream",
     "text": [
      "Net Profit            : £12794.38\n",
      "Number Winning Trades : 95\n",
      "Number Losing Trades  : 90\n",
      "Percent Profitable    : 51.35%\n",
      "Avg Win Trade         : £674.974\n",
      "Avg Los Trade         : £-570.313\n",
      "Largest Win Trade     : £2660.465\n",
      "Largest Los Trade     : £-2922.581\n",
      "Profit Factor         : 1.25\n"
     ]
    },
    {
     "data": {
      "text/plain": [
       "<matplotlib.axes._subplots.AxesSubplot at 0x1de71098630>"
      ]
     },
     "execution_count": 8,
     "metadata": {},
     "output_type": "execute_result"
    },
    {
     "data": {
      "image/png": "[encoded data removed]",
      "text/plain": [
       "<Figure size 432x288 with 1 Axes>"
      ]
     },
     "metadata": {
      "needs_background": "light"
     },
     "output_type": "display_data"
    }
   ],
   "source": [
    "# Calculate summary of trades\n",
    "\n",
    "n_win_trades = float(df_trade[df_trade['pnl']>0.0]['pnl'].count())\n",
    "n_los_trades = float(df_trade[df_trade['pnl']<0.0]['pnl'].count())\n",
    "print(\"Net Profit            : £%.2f\" % df_trade.tail(1)['equity'])\n",
    "print(\"Number Winning Trades : %d\" % n_win_trades)\n",
    "print(\"Number Losing Trades  : %d\" % n_los_trades)\n",
    "print(\"Percent Profitable    : %.2f%%\" % (100*n_win_trades/(n_win_trades + n_los_trades)))\n",
    "print(\"Avg Win Trade         : £%.3f\" % df_trade[df_trade['pnl']>0.0]['pnl'].mean())\n",
    "print(\"Avg Los Trade         : £%.3f\" % df_trade[df_trade['pnl']<0.0]['pnl'].mean())\n",
    "print(\"Largest Win Trade     : £%.3f\" % df_trade[df_trade['pnl']>0.0]['pnl'].max())\n",
    "print(\"Largest Los Trade     : £%.3f\" % df_trade[df_trade['pnl']<0.0]['pnl'].min())\n",
    "print(\"Profit Factor         : %.2f\" % abs(df_trade[df_trade['pnl']>0.0]['pnl'].sum()/df_trade[df_trade['pnl']<0.0]['pnl'].sum()))\n",
    "\n",
    "df_trade['pnl'].hist(bins=20)"
   ]
  }
 ],
 "metadata": {
  "kernelspec": {
   "display_name": "Python 3",
   "language": "python",
   "name": "python3"
  },
  "language_info": {
   "codemirror_mode": {
    "name": "ipython",
    "version": 3
   },
   "file_extension": ".py",
   "mimetype": "text/x-python",
   "name": "python",
   "nbconvert_exporter": "python",
   "pygments_lexer": "ipython3",
   "version": "3.7.3"
  }
 },
 "nbformat": 4,
 "nbformat_minor": 4
}
