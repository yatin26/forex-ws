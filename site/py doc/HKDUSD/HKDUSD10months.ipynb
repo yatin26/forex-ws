{
 "cells": [
  {
   "cell_type": "code",
   "execution_count": 1,
   "metadata": {},
   "outputs": [],
   "source": [
    "import datetime\n",
    "import numpy as np\n",
    "import pandas as pd\n",
    "import matplotlib.pyplot as plt\n",
    "import seaborn as sns\n",
    "from IPython.core.display import display\n",
    "%matplotlib inline"
   ]
  },
  {
   "cell_type": "code",
   "execution_count": 2,
   "metadata": {},
   "outputs": [],
   "source": [
    "df = pd.read_csv(\"HKDUSD=X.csv\") "
   ]
  },
  {
   "cell_type": "code",
   "execution_count": 3,
   "metadata": {},
   "outputs": [],
   "source": [
    "df['return'] = df['Adj Close'] - df['Adj Close'].shift(1)\n",
    "return_range = df['return'].max() - df['return'].min()\n",
    "df['return'] = df['return'] / return_range"
   ]
  },
  {
   "cell_type": "code",
   "execution_count": 4,
   "metadata": {},
   "outputs": [
    {
     "data": {
      "text/html": [
       "<div>\n",
       "<style scoped>\n",
       "    .dataframe tbody tr th:only-of-type {\n",
       "        vertical-align: middle;\n",
       "    }\n",
       "\n",
       "    .dataframe tbody tr th {\n",
       "        vertical-align: top;\n",
       "    }\n",
       "\n",
       "    .dataframe thead th {\n",
       "        text-align: right;\n",
       "    }\n",
       "</style>\n",
       "<table border=\"1\" class=\"dataframe\">\n",
       "  <thead>\n",
       "    <tr style=\"text-align: right;\">\n",
       "      <th></th>\n",
       "      <th>Date</th>\n",
       "      <th>Open</th>\n",
       "      <th>High</th>\n",
       "      <th>Low</th>\n",
       "      <th>Close</th>\n",
       "      <th>Adj Close</th>\n",
       "      <th>Volume</th>\n",
       "      <th>return</th>\n",
       "      <th>label</th>\n",
       "    </tr>\n",
       "  </thead>\n",
       "  <tbody>\n",
       "    <tr>\n",
       "      <th>234</th>\n",
       "      <td>2020-12-28</td>\n",
       "      <td>0.128975</td>\n",
       "      <td>0.129004</td>\n",
       "      <td>0.128967</td>\n",
       "      <td>0.128975</td>\n",
       "      <td>0.128975</td>\n",
       "      <td>0</td>\n",
       "      <td>-0.004926</td>\n",
       "      <td>0</td>\n",
       "    </tr>\n",
       "    <tr>\n",
       "      <th>235</th>\n",
       "      <td>2020-12-29</td>\n",
       "      <td>0.128969</td>\n",
       "      <td>0.129001</td>\n",
       "      <td>0.128961</td>\n",
       "      <td>0.128956</td>\n",
       "      <td>0.128956</td>\n",
       "      <td>0</td>\n",
       "      <td>-0.046798</td>\n",
       "      <td>1</td>\n",
       "    </tr>\n",
       "    <tr>\n",
       "      <th>236</th>\n",
       "      <td>2020-12-30</td>\n",
       "      <td>0.128971</td>\n",
       "      <td>0.129006</td>\n",
       "      <td>0.128969</td>\n",
       "      <td>0.128970</td>\n",
       "      <td>0.128970</td>\n",
       "      <td>0</td>\n",
       "      <td>0.034483</td>\n",
       "      <td>1</td>\n",
       "    </tr>\n",
       "    <tr>\n",
       "      <th>237</th>\n",
       "      <td>2020-12-31</td>\n",
       "      <td>0.128999</td>\n",
       "      <td>0.129015</td>\n",
       "      <td>0.128968</td>\n",
       "      <td>0.128996</td>\n",
       "      <td>0.128996</td>\n",
       "      <td>0</td>\n",
       "      <td>0.064039</td>\n",
       "      <td>0</td>\n",
       "    </tr>\n",
       "    <tr>\n",
       "      <th>238</th>\n",
       "      <td>2021-01-01</td>\n",
       "      <td>0.128979</td>\n",
       "      <td>0.129021</td>\n",
       "      <td>0.128936</td>\n",
       "      <td>0.128979</td>\n",
       "      <td>0.128979</td>\n",
       "      <td>0</td>\n",
       "      <td>-0.041872</td>\n",
       "      <td>0</td>\n",
       "    </tr>\n",
       "  </tbody>\n",
       "</table>\n",
       "</div>"
      ],
      "text/plain": [
       "           Date      Open      High       Low     Close  Adj Close  Volume  \\\n",
       "234  2020-12-28  0.128975  0.129004  0.128967  0.128975   0.128975       0   \n",
       "235  2020-12-29  0.128969  0.129001  0.128961  0.128956   0.128956       0   \n",
       "236  2020-12-30  0.128971  0.129006  0.128969  0.128970   0.128970       0   \n",
       "237  2020-12-31  0.128999  0.129015  0.128968  0.128996   0.128996       0   \n",
       "238  2021-01-01  0.128979  0.129021  0.128936  0.128979   0.128979       0   \n",
       "\n",
       "       return  label  \n",
       "234 -0.004926      0  \n",
       "235 -0.046798      1  \n",
       "236  0.034483      1  \n",
       "237  0.064039      0  \n",
       "238 -0.041872      0  "
      ]
     },
     "execution_count": 4,
     "metadata": {},
     "output_type": "execute_result"
    }
   ],
   "source": [
    "df['label'] = df['return'].shift(-1)\n",
    "df['label'] = df['label'].apply(lambda x: 1 if x>0.0 else 0)\n",
    "df.dropna(inplace=True)\n",
    "df.tail()"
   ]
  },
  {
   "cell_type": "code",
   "execution_count": 5,
   "metadata": {},
   "outputs": [
    {
     "name": "stdout",
     "output_type": "stream",
     "text": [
      "(178, 60)\n",
      "(178,)\n",
      "% of Class0 : 0.533708\n",
      "% of Class1 : 0.466292\n"
     ]
    }
   ],
   "source": [
    "n_features = 60 \n",
    "\n",
    "train_x = np.array([]).reshape([-1,n_features])\n",
    "train_y = np.array([]).reshape([-1,1])\n",
    "for index, row in df.iterrows():\n",
    "    i = df.index.get_loc(index)\n",
    "    if i < n_features:\n",
    "        continue\n",
    "    _x = np.array(df[i-n_features+1:i+1]['return']).T.reshape([1, -1])\n",
    "    _y = df.iloc[i]['label']\n",
    "    train_x = np.vstack((train_x, _x))\n",
    "    train_y = np.vstack((train_y, _y))\n",
    "train_y = train_y.reshape([-1])\n",
    "print(train_x.shape)\n",
    "print(train_y.shape)\n",
    "print('%% of Class0 : %f' % (np.count_nonzero(train_y == 0)/float(len(train_y))))\n",
    "print('%% of Class1 : %f' % (np.count_nonzero(train_y == 1)/float(len(train_y))))"
   ]
  },
  {
   "cell_type": "code",
   "execution_count": 6,
   "metadata": {},
   "outputs": [
    {
     "name": "stdout",
     "output_type": "stream",
     "text": [
      "Testing Accuracy: 0.333333\n"
     ]
    }
   ],
   "source": [
    "from sklearn.ensemble import GradientBoostingClassifier\n",
    "clf = GradientBoostingClassifier(random_state=0, learning_rate=0.01, n_estimators=10000)\n",
    "\n",
    "train_len = int(len(train_x) * 0.95)\n",
    "clf.fit(train_x[:train_len], train_y[:train_len])\n",
    "\n",
    "accuracy = clf.score(train_x[train_len:], train_y[train_len:])\n",
    "\n",
    "print('Testing Accuracy: %f' % accuracy)"
   ]
  },
  {
   "cell_type": "code",
   "execution_count": 7,
   "metadata": {},
   "outputs": [
    {
     "name": "stdout",
     "output_type": "stream",
     "text": [
      "Enter value of equity:7500\n"
     ]
    },
    {
     "data": {
      "text/html": [
       "<div>\n",
       "<style scoped>\n",
       "    .dataframe tbody tr th:only-of-type {\n",
       "        vertical-align: middle;\n",
       "    }\n",
       "\n",
       "    .dataframe tbody tr th {\n",
       "        vertical-align: top;\n",
       "    }\n",
       "\n",
       "    .dataframe thead th {\n",
       "        text-align: right;\n",
       "    }\n",
       "</style>\n",
       "<table border=\"1\" class=\"dataframe\">\n",
       "  <thead>\n",
       "    <tr style=\"text-align: right;\">\n",
       "      <th></th>\n",
       "      <th>return</th>\n",
       "      <th>label</th>\n",
       "      <th>pred</th>\n",
       "      <th>won</th>\n",
       "      <th>pnl</th>\n",
       "      <th>equity</th>\n",
       "    </tr>\n",
       "  </thead>\n",
       "  <tbody>\n",
       "    <tr>\n",
       "      <th>3</th>\n",
       "      <td>-0.000002</td>\n",
       "      <td>0.0</td>\n",
       "      <td>1.0</td>\n",
       "      <td>False</td>\n",
       "      <td>-0.0150</td>\n",
       "      <td>-0.1725</td>\n",
       "    </tr>\n",
       "    <tr>\n",
       "      <th>4</th>\n",
       "      <td>-0.000019</td>\n",
       "      <td>0.0</td>\n",
       "      <td>0.0</td>\n",
       "      <td>True</td>\n",
       "      <td>0.1425</td>\n",
       "      <td>-0.0300</td>\n",
       "    </tr>\n",
       "    <tr>\n",
       "      <th>5</th>\n",
       "      <td>0.000014</td>\n",
       "      <td>1.0</td>\n",
       "      <td>0.0</td>\n",
       "      <td>False</td>\n",
       "      <td>-0.1050</td>\n",
       "      <td>-0.1350</td>\n",
       "    </tr>\n",
       "    <tr>\n",
       "      <th>6</th>\n",
       "      <td>0.000026</td>\n",
       "      <td>1.0</td>\n",
       "      <td>1.0</td>\n",
       "      <td>True</td>\n",
       "      <td>0.1950</td>\n",
       "      <td>0.0600</td>\n",
       "    </tr>\n",
       "    <tr>\n",
       "      <th>7</th>\n",
       "      <td>-0.000017</td>\n",
       "      <td>0.0</td>\n",
       "      <td>1.0</td>\n",
       "      <td>False</td>\n",
       "      <td>-0.1275</td>\n",
       "      <td>-0.0675</td>\n",
       "    </tr>\n",
       "  </tbody>\n",
       "</table>\n",
       "</div>"
      ],
      "text/plain": [
       "     return  label  pred    won     pnl  equity\n",
       "3 -0.000002    0.0   1.0  False -0.0150 -0.1725\n",
       "4 -0.000019    0.0   0.0   True  0.1425 -0.0300\n",
       "5  0.000014    1.0   0.0  False -0.1050 -0.1350\n",
       "6  0.000026    1.0   1.0   True  0.1950  0.0600\n",
       "7 -0.000017    0.0   1.0  False -0.1275 -0.0675"
      ]
     },
     "metadata": {},
     "output_type": "display_data"
    },
    {
     "data": {
      "text/html": [
       "<div>\n",
       "<style scoped>\n",
       "    .dataframe tbody tr th:only-of-type {\n",
       "        vertical-align: middle;\n",
       "    }\n",
       "\n",
       "    .dataframe tbody tr th {\n",
       "        vertical-align: top;\n",
       "    }\n",
       "\n",
       "    .dataframe thead th {\n",
       "        text-align: right;\n",
       "    }\n",
       "</style>\n",
       "<table border=\"1\" class=\"dataframe\">\n",
       "  <thead>\n",
       "    <tr style=\"text-align: right;\">\n",
       "      <th></th>\n",
       "      <th>return</th>\n",
       "      <th>label</th>\n",
       "      <th>pred</th>\n",
       "      <th>won</th>\n",
       "      <th>pnl</th>\n",
       "      <th>equity</th>\n",
       "    </tr>\n",
       "  </thead>\n",
       "  <tbody>\n",
       "    <tr>\n",
       "      <th>0</th>\n",
       "      <td>0.000001</td>\n",
       "      <td>1.0</td>\n",
       "      <td>0.0</td>\n",
       "      <td>False</td>\n",
       "      <td>-0.0075</td>\n",
       "      <td>-0.0075</td>\n",
       "    </tr>\n",
       "    <tr>\n",
       "      <th>1</th>\n",
       "      <td>0.000004</td>\n",
       "      <td>1.0</td>\n",
       "      <td>0.0</td>\n",
       "      <td>False</td>\n",
       "      <td>-0.0300</td>\n",
       "      <td>-0.0375</td>\n",
       "    </tr>\n",
       "    <tr>\n",
       "      <th>2</th>\n",
       "      <td>-0.000016</td>\n",
       "      <td>0.0</td>\n",
       "      <td>1.0</td>\n",
       "      <td>False</td>\n",
       "      <td>-0.1200</td>\n",
       "      <td>-0.1575</td>\n",
       "    </tr>\n",
       "    <tr>\n",
       "      <th>3</th>\n",
       "      <td>-0.000002</td>\n",
       "      <td>0.0</td>\n",
       "      <td>1.0</td>\n",
       "      <td>False</td>\n",
       "      <td>-0.0150</td>\n",
       "      <td>-0.1725</td>\n",
       "    </tr>\n",
       "    <tr>\n",
       "      <th>4</th>\n",
       "      <td>-0.000019</td>\n",
       "      <td>0.0</td>\n",
       "      <td>0.0</td>\n",
       "      <td>True</td>\n",
       "      <td>0.1425</td>\n",
       "      <td>-0.0300</td>\n",
       "    </tr>\n",
       "  </tbody>\n",
       "</table>\n",
       "</div>"
      ],
      "text/plain": [
       "     return  label  pred    won     pnl  equity\n",
       "0  0.000001    1.0   0.0  False -0.0075 -0.0075\n",
       "1  0.000004    1.0   0.0  False -0.0300 -0.0375\n",
       "2 -0.000016    0.0   1.0  False -0.1200 -0.1575\n",
       "3 -0.000002    0.0   1.0  False -0.0150 -0.1725\n",
       "4 -0.000019    0.0   0.0   True  0.1425 -0.0300"
      ]
     },
     "metadata": {},
     "output_type": "display_data"
    },
    {
     "data": {
      "image/png": "[encoded data removed]",
      "text/plain": [
       "<Figure size 720x288 with 1 Axes>"
      ]
     },
     "metadata": {
      "needs_background": "light"
     },
     "output_type": "display_data"
    }
   ],
   "source": [
    "pred = clf.predict(train_x[train_len:])\n",
    "\n",
    "\n",
    "# Calculate equity..\n",
    "\n",
    "contracts  = int(input(\"Enter value of equity:\"))\n",
    "commission = 0.0\n",
    "\n",
    "\n",
    "df_trade = pd.DataFrame(train_x[train_len:,-1], columns=['return'])\n",
    "df_trade['label']  = train_y[train_len:]\n",
    "df_trade['pred']   = pred\n",
    "df_trade['won']    = df_trade['label'] == df_trade['pred']\n",
    "df_trade['return'] = df_trade['return'].shift(-1) * return_range\n",
    "df_trade.drop(df_trade.index[len(df_trade)-1], inplace=True)\n",
    "\n",
    "def calc_profit(row):\n",
    "    if row['won']:\n",
    "        return abs(row['return'])*contracts - commission\n",
    "    else:\n",
    "        return -abs(row['return'])*contracts - commission\n",
    "\n",
    "df_trade['pnl'] = df_trade.apply(lambda row: calc_profit(row), axis=1)\n",
    "df_trade['equity'] = df_trade['pnl'].cumsum()\n",
    "\n",
    "display(df_trade.tail())\n",
    "df_trade.plot(y='equity', figsize=(10,4), title='Backtest with your initial capital')\n",
    "plt.xlabel('Trades')\n",
    "plt.ylabel('Equity (USD)')\n",
    "for r in df_trade.iterrows():\n",
    "    if r[1]['won']:\n",
    "        plt.axvline(x=r[0], linewidth=0.5, alpha=0.8, color='g')\n",
    "    else:\n",
    "        plt.axvline(x=r[0], linewidth=0.5, alpha=0.8, color='r')\n",
    "display(df_trade.head())"
   ]
  },
  {
   "cell_type": "code",
   "execution_count": 8,
   "metadata": {},
   "outputs": [
    {
     "name": "stdout",
     "output_type": "stream",
     "text": [
      "Net Profit            : $-0.07\n",
      "Number Winning Trades : 2\n",
      "Number Losing Trades  : 6\n",
      "Percent Profitable    : 25.00%\n",
      "Avg Win Trade         : $0.169\n",
      "Avg Los Trade         : $-0.067\n",
      "Largest Win Trade     : $0.195\n",
      "Largest Los Trade     : $-0.128\n",
      "Profit Factor         : 0.83\n"
     ]
    },
    {
     "data": {
      "text/plain": [
       "<matplotlib.axes._subplots.AxesSubplot at 0x2134c13fe80>"
      ]
     },
     "execution_count": 8,
     "metadata": {},
     "output_type": "execute_result"
    },
    {
     "data": {
      "image/png": "[encoded data removed]",
      "text/plain": [
       "<Figure size 432x288 with 1 Axes>"
      ]
     },
     "metadata": {
      "needs_background": "light"
     },
     "output_type": "display_data"
    }
   ],
   "source": [
    "# Calculate summary of trades\n",
    "\n",
    "n_win_trades = float(df_trade[df_trade['pnl']>0.0]['pnl'].count())\n",
    "n_los_trades = float(df_trade[df_trade['pnl']<0.0]['pnl'].count())\n",
    "print(\"Net Profit            : $%.2f\" % df_trade.tail(1)['equity'])\n",
    "print(\"Number Winning Trades : %d\" % n_win_trades)\n",
    "print(\"Number Losing Trades  : %d\" % n_los_trades)\n",
    "print(\"Percent Profitable    : %.2f%%\" % (100*n_win_trades/(n_win_trades + n_los_trades)))\n",
    "print(\"Avg Win Trade         : $%.3f\" % df_trade[df_trade['pnl']>0.0]['pnl'].mean())\n",
    "print(\"Avg Los Trade         : $%.3f\" % df_trade[df_trade['pnl']<0.0]['pnl'].mean())\n",
    "print(\"Largest Win Trade     : $%.3f\" % df_trade[df_trade['pnl']>0.0]['pnl'].max())\n",
    "print(\"Largest Los Trade     : $%.3f\" % df_trade[df_trade['pnl']<0.0]['pnl'].min())\n",
    "print(\"Profit Factor         : %.2f\" % abs(df_trade[df_trade['pnl']>0.0]['pnl'].sum()/df_trade[df_trade['pnl']<0.0]['pnl'].sum()))\n",
    "\n",
    "df_trade['pnl'].hist(bins=20)"
   ]
  }
 ],
 "metadata": {
  "kernelspec": {
   "display_name": "Python 3",
   "language": "python",
   "name": "python3"
  },
  "language_info": {
   "codemirror_mode": {
    "name": "ipython",
    "version": 3
   },
   "file_extension": ".py",
   "mimetype": "text/x-python",
   "name": "python",
   "nbconvert_exporter": "python",
   "pygments_lexer": "ipython3",
   "version": "3.7.3"
  }
 },
 "nbformat": 4,
 "nbformat_minor": 4
}
