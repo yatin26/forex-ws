{
 "cells": [
  {
   "cell_type": "code",
   "execution_count": null,
   "metadata": {},
   "outputs": [],
   "source": [
    "import datetime\n",
    "import numpy as np\n",
    "import pandas as pd\n",
    "import matplotlib.pyplot as plt\n",
    "import seaborn as sns\n",
    "from IPython.core.display import display\n",
    "from sklearn.ensemble import GradientBoostingClassifier\n",
    "%matplotlib inline\n",
    "\n"
   ]
  },
  {
   "cell_type": "code",
   "execution_count": null,
   "metadata": {},
   "outputs": [],
   "source": [
    "df= pd.read_csv(\"USDINR.csv\")"
   ]
  },
  {
   "cell_type": "code",
   "execution_count": null,
   "metadata": {},
   "outputs": [],
   "source": [
    "df['return'] = df['Adj Close'] - df['Adj Close'].shift(1)\n",
    "return_range = df['return'].max() - df['return'].min()\n",
    "df['return'] = df['return'] / return_range\n",
    "df['label'] = df['return'].shift(-1)\n",
    "df['label'] = df['label'].apply(lambda x: 1 if x>0.0 else 0)\n",
    "df.dropna(inplace=True)\n",
    "df.tail()"
   ]
  },
  {
   "cell_type": "code",
   "execution_count": null,
   "metadata": {},
   "outputs": [],
   "source": [
    "n_features = 60 \n",
    "\n",
    "train_x = np.array([]).reshape([-1,n_features])\n",
    "train_y = np.array([]).reshape([-1,1])\n",
    "for index, row in df.iterrows():\n",
    "    i = df.index.get_loc(index)\n",
    "    if i<n_features:\n",
    "        continue\n",
    "    \n",
    "    _x = np.array(df[i-n_features+1:i+1]['return']).T.reshape([1, -1])\n",
    "    _y = df.iloc[i]['label']\n",
    "    train_x = np.vstack((train_x, _x))\n",
    "    train_y = np.vstack((train_y, _y))\n",
    "train_y = train_y.reshape([-1])\n",
    "print(train_x.shape)\n",
    "print(train_y.shape)\n",
    "print('%% of Class0 : %f' % (np.count_nonzero(train_y == 0)/float(len(train_y))))\n",
    "print('%% of Class1 : %f' % (np.count_nonzero(train_y == 1)/float(len(train_y))))"
   ]
  },
  {
   "cell_type": "code",
   "execution_count": null,
   "metadata": {},
   "outputs": [],
   "source": [
    "\n",
    "from sklearn.ensemble import GradientBoostingClassifier\n",
    "clf = GradientBoostingClassifier(random_state=0, learning_rate=0.01, n_estimators=10000)\n",
    "\n",
    "train_len = int(len(train_x)*0.95)\n",
    "clf.fit(train_x[:train_len], train_y[:train_len])\n",
    "\n",
    "accuracy = clf.score(train_x[train_len:], train_y[train_len:])\n",
    "\n",
    "print('Testing Accuracy: %f' % accuracy)"
   ]
  },
  {
   "cell_type": "code",
   "execution_count": null,
   "metadata": {},
   "outputs": [],
   "source": [
    "\n",
    "pred = clf.predict(train_x[train_len:])\n",
    "\n",
    "\n",
    "# Calculate equity..\n",
    "\n",
    "contracts  = int(input(\"Enter value of equity:\"))\n",
    "commission = 0.0\n",
    "\n",
    "\n",
    "df_trade = pd.DataFrame(train_x[train_len:,-1], columns=['return'])\n",
    "df_trade['label']  = train_y[train_len:]\n",
    "df_trade['pred']   = pred\n",
    "df_trade['won']    = df_trade['label'] == df_trade['pred']\n",
    "df_trade['return'] = df_trade['return'].shift(-1) * return_range\n",
    "df_trade.drop(df_trade.index[len(df_trade)-1], inplace=True)\n",
    "\n",
    "def calc_profit(row):\n",
    "    if row['won']:\n",
    "        return abs(row['return'])*contracts - commission\n",
    "    else:\n",
    "        return -abs(row['return'])*contracts - commission\n",
    "\n",
    "df_trade['pnl'] = df_trade.apply(lambda row: calc_profit(row), axis=1)\n",
    "df_trade['equity'] = df_trade['pnl'].cumsum()\n",
    "\n",
    "display(df_trade.tail())\n",
    "df_trade.plot(y='equity', figsize=(10,4), title='Backtest with $1000 initial capital')\n",
    "plt.xlabel('Trades')\n",
    "plt.ylabel('Equity (USD)')\n",
    "for r in df_trade.iterrows():\n",
    "    if r[1]['won']:\n",
    "        plt.axvline(x=r[0], linewidth=0.5, alpha=0.8, color='g')\n",
    "    else:\n",
    "        plt.axvline(x=r[0], linewidth=0.5, alpha=0.8, color='r')\n",
    "display(df_trade.head())"
   ]
  },
  {
   "cell_type": "code",
   "execution_count": null,
   "metadata": {},
   "outputs": [],
   "source": [
    "# Calculate summary of trades\n",
    "\n",
    "n_win_trades = float(df_trade[df_trade['pnl']>0.0]['pnl'].count())\n",
    "n_los_trades = float(df_trade[df_trade['pnl']<0.0]['pnl'].count())\n",
    "print(\"Net Profit            : $%.2f\" % df_trade.tail(1)['equity'])\n",
    "print(\"Number Winning Trades : %d\" % n_win_trades)\n",
    "print(\"Number Losing Trades  : %d\" % n_los_trades)\n",
    "print(\"Percent Profitable    : %.2f%%\" % (100*n_win_trades/(n_win_trades + n_los_trades)))\n",
    "print(\"Avg Win Trade         : $%.3f\" % df_trade[df_trade['pnl']>0.0]['pnl'].mean())\n",
    "print(\"Avg Los Trade         : $%.3f\" % df_trade[df_trade['pnl']<0.0]['pnl'].mean())\n",
    "print(\"Largest Win Trade     : $%.3f\" % df_trade[df_trade['pnl']>0.0]['pnl'].max())\n",
    "print(\"Largest Los Trade     : $%.3f\" % df_trade[df_trade['pnl']<0.0]['pnl'].min())\n",
    "print(\"Profit Factor         : %.2f\" % abs(df_trade[df_trade['pnl']>0.0]['pnl'].sum()/df_trade[df_trade['pnl']<0.0]['pnl'].sum()))\n",
    "\n",
    "df_trade['pnl'].hist(bins=20)"
   ]
  },
  {
   "cell_type": "code",
   "execution_count": null,
   "metadata": {},
   "outputs": [],
   "source": []
  }
 ],
 "metadata": {
  "kernelspec": {
   "display_name": "Python 3",
   "language": "python",
   "name": "python3"
  },
  "language_info": {
   "codemirror_mode": {
    "name": "ipython",
    "version": 3
   },
   "file_extension": ".py",
   "mimetype": "text/x-python",
   "name": "python",
   "nbconvert_exporter": "python",
   "pygments_lexer": "ipython3",
   "version": "3.7.3"
  }
 },
 "nbformat": 4,
 "nbformat_minor": 4
}
